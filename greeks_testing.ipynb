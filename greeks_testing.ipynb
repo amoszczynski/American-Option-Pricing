{
 "cells": [
  {
   "cell_type": "code",
   "execution_count": 2,
   "metadata": {
    "ExecuteTime": {
     "end_time": "2023-12-11T20:50:43.491472400Z",
     "start_time": "2023-12-11T20:50:36.879754600Z"
    }
   },
   "outputs": [],
   "source": [
    "import numpy as np\n",
    "import pandas as pd\n",
    "import os\n",
    "import datetime\n",
    "from collections import OrderedDict\n",
    "import datetime as dt\n",
    "import QuantLib as ql\n",
    "from scipy.stats import norm"
   ]
  },
  {
   "cell_type": "markdown",
   "metadata": {},
   "source": [
    "File collection"
   ]
  },
  {
   "cell_type": "code",
   "execution_count": 328,
   "metadata": {
    "ExecuteTime": {
     "end_time": "2023-12-11T23:14:12.755630700Z",
     "start_time": "2023-12-11T23:14:11.547110800Z"
    }
   },
   "outputs": [],
   "source": [
    "daily_chains = OrderedDict()\n",
    "files = sorted(os.listdir('C:\\\\Users\\\\Sean\\\\Downloads\\\\spy_data\\\\spy_data'))\n",
    "treasury_rates = pd.read_csv(\"C:\\\\Users\\\\Sean\\\\Downloads\\\\daily-treasury-rates (1).csv\")\n",
    "\n",
    "for file in files:\n",
    "    if file[-4:] == '.csv':\n",
    "        df = pd.read_csv('C:\\\\Users\\\\Sean\\\\Downloads\\\\spy_data\\\\spy_data\\\\' + file)        \n",
    "        \n",
    "        # moving to datetime and making features\n",
    "        df['quote_datetime'] = pd.to_datetime(df['quote_datetime'])\n",
    "        df['expiration'] = pd.to_datetime(df['expiration'])\n",
    "        df['quote_date'] = df['quote_datetime'][0].date()\n",
    "        df['quote_date'] = pd.to_datetime(df['quote_date'])\n",
    "        \n",
    "        # getting only 4:00 quotes\n",
    "        eod = datetime.datetime.combine(df['quote_datetime'][0].date(), datetime.time(16,0, 0))\n",
    "        df = df.loc[df['quote_datetime'] == eod]\n",
    "        \n",
    "        # getting time to expiration and moneyness\n",
    "        df['T'] = df['expiration'] - df['quote_date']\n",
    "        df['T'] = df['T'].dt.days\n",
    "        \n",
    "        # filtering for research paper criteria\n",
    "        df = df.loc[df['close']!=0]\n",
    "                    \n",
    "        calls = df.loc[df['option_type']=='C'][['quote_date', 'expiration', 'T','implied_volatility', 'active_underlying_price', 'strike', 'bid', 'ask', 'delta', 'gamma', 'theta', 'vega', 'rho']]\n",
    "        puts = df.loc[df['option_type']=='P'][['quote_date','expiration', 'T', 'implied_volatility', 'active_underlying_price', 'strike', 'bid', 'ask', 'delta', 'gamma', 'theta', 'vega', 'rho']]\n",
    "        \n",
    "        daily_chains[file[-14:-4]] = {'calls':calls, 'puts':puts}"
   ]
  },
  {
   "cell_type": "code",
   "execution_count": 347,
   "outputs": [
    {
     "name": "stdout",
     "output_type": "stream",
     "text": [
      "5.56\n"
     ]
    }
   ],
   "source": [
    "treasury_rates[\"Date\"] = pd.to_datetime(treasury_rates[\"Date\"], format=\"%m/%d/%Y\")\n",
    "\n",
    "index = treasury_rates[treasury_rates[\"Date\"] == \"2023-10-30\"].index\n",
    "\n",
    "print(treasury_rates[\"1 Mo\"].iloc[index].values[0])"
   ],
   "metadata": {
    "collapsed": false,
    "ExecuteTime": {
     "end_time": "2023-12-11T23:20:35.974570100Z",
     "start_time": "2023-12-11T23:20:35.956028900Z"
    }
   }
  },
  {
   "cell_type": "code",
   "execution_count": 257,
   "metadata": {
    "ExecuteTime": {
     "end_time": "2023-12-11T22:47:11.701024900Z",
     "start_time": "2023-12-11T22:47:11.698065Z"
    }
   },
   "outputs": [],
   "source": [
    "def time_to_div(day):\n",
    "    \"\"\"fraction of years until next dividend\"\"\"\n",
    "    \n",
    "    # get offset \n",
    "    divs = [\"09-15\", \"06-16\", \"03-17\", \"12-16\"]\n",
    "    div_dates = sorted([dt.datetime.strptime(f'{day.year}-{date}', '%Y-%m-%d') for date in divs])\n",
    "    \n",
    "    # get next dividend \n",
    "    for date in div_dates:\n",
    "        if day <= date:\n",
    "            return (date - day).days / 365\n",
    "    \n",
    "    return (div_dates[0].replace(year=day.year + 1) - day).days / 365"
   ]
  },
  {
   "cell_type": "markdown",
   "metadata": {},
   "source": [
    "American pricing with QuantLib"
   ]
  },
  {
   "cell_type": "code",
   "execution_count": 318,
   "metadata": {
    "ExecuteTime": {
     "end_time": "2023-12-11T23:10:40.529075600Z",
     "start_time": "2023-12-11T23:10:40.515099300Z"
    }
   },
   "outputs": [],
   "source": [
    "def price_w_ql(quote, opt_type):\n",
    "\n",
    "    exp = quote['expiration']\n",
    "    day = quote['quote_date']\n",
    "\n",
    "    # option data\n",
    "    maturity_date = ql.Date(exp.day, exp.month, exp.year)\n",
    "    spot_price = quote['active_underlying_price']\n",
    "    strike_price = quote['strike']\n",
    "    volatility = quote['implied_volatility'] # the historical vols or implied vols\n",
    "    dividend_rate =  0.0141\n",
    "    if opt_type == \"call\":\n",
    "        option_type = ql.Option.Call\n",
    "    elif opt_type == \"put\":\n",
    "        option_type = ql.Option.Put\n",
    "\n",
    "    risk_free_rate = 0.054\n",
    "    div_yield = 0.0141\n",
    "    day_count = ql.Actual365Fixed()\n",
    "    #calendar = ql.UnitedStates()\n",
    "    calendar = ql.UnitedStates(ql.UnitedStates.NYSE)\n",
    "    calculation_date = ql.Date(day.day, day.month, day.year)\n",
    "    ql.Settings.instance().evaluationDate = calculation_date\n",
    "    \n",
    "    payoff = ql.PlainVanillaPayoff(option_type, strike_price)\n",
    "    settlement = calculation_date\n",
    "\n",
    "    am_exercise = ql.AmericanExercise(settlement, maturity_date)\n",
    "    american_option = ql.VanillaOption(payoff, am_exercise)\n",
    "\n",
    "    spot_handle = ql.QuoteHandle(\n",
    "    ql.SimpleQuote(spot_price)\n",
    "    )\n",
    "    flat_ts = ql.YieldTermStructureHandle(\n",
    "        ql.FlatForward(calculation_date, risk_free_rate, day_count)\n",
    "    )\n",
    "    dividend_yield = ql.YieldTermStructureHandle(\n",
    "        ql.FlatForward(calculation_date, div_yield, day_count)\n",
    "    )\n",
    "    flat_vol_ts = ql.BlackVolTermStructureHandle(\n",
    "        ql.BlackConstantVol(calculation_date, calendar, volatility, day_count)\n",
    "    )\n",
    "    bsm_process = ql.BlackScholesMertonProcess(spot_handle, \n",
    "                                            dividend_yield, \n",
    "                                            flat_ts, \n",
    "                                            flat_vol_ts)\n",
    "    \n",
    "    steps = 2500\n",
    "    binomial_engine = ql.BinomialVanillaEngine(bsm_process, \"crr\", steps)\n",
    "    american_option.setPricingEngine(binomial_engine)\n",
    "    return american_option.NPV()"
   ]
  },
  {
   "cell_type": "code",
   "execution_count": 319,
   "metadata": {
    "ExecuteTime": {
     "end_time": "2023-12-11T23:10:41.383533700Z",
     "start_time": "2023-12-11T23:10:41.333230800Z"
    }
   },
   "outputs": [
    {
     "data": {
      "text/plain": "42.90115252626289"
     },
     "execution_count": 319,
     "metadata": {},
     "output_type": "execute_result"
    }
   ],
   "source": [
    "price_w_ql(daily_chains['2023-10-02']['calls'].iloc[1500], \"call\")"
   ]
  },
  {
   "cell_type": "markdown",
   "metadata": {},
   "source": [
    "American binomial tree option pricer with discrete dividends"
   ]
  },
  {
   "cell_type": "code",
   "execution_count": 260,
   "metadata": {
    "ExecuteTime": {
     "end_time": "2023-12-11T22:47:14.815116400Z",
     "start_time": "2023-12-11T22:47:14.801191300Z"
    }
   },
   "outputs": [],
   "source": [
    "S0 = 100.0  # spot stock price\n",
    "K = 100.0  # strike\n",
    "T = 1.0  # maturity\n",
    "r = 0.1  # risk free rate\n",
    "sig = 0.2  # diffusion coefficient or volatility"
   ]
  },
  {
   "cell_type": "code",
   "execution_count": 320,
   "metadata": {
    "ExecuteTime": {
     "end_time": "2023-12-11T23:10:48.348899800Z",
     "start_time": "2023-12-11T23:10:45.783586900Z"
    }
   },
   "outputs": [
    {
     "name": "stdout",
     "output_type": "stream",
     "text": [
      "American BS Tree Price:  12.514116960216668\n"
     ]
    }
   ],
   "source": [
    "N = 25000  # number of periods or number of time steps\n",
    "payoff = \"call\"  # payoff\n",
    "\n",
    "dT = float(T) / N  # Delta t\n",
    "u = np.exp(sig * np.sqrt(dT))  # up factor\n",
    "d = 1.0 / u  # down factor\n",
    "\n",
    "# yield is the quarterly yield\n",
    "div = {'yield': 0.003556, 'freq': 0.25, 'offset': \n",
    "        time_to_div(datetime.datetime(year=2023, month = 10, day = 2, hour = 16))}\n",
    "\n",
    "# get in time T, when dividends occur\n",
    "div_times = [div['offset']+n*div['freq'] for n in range(int((T-div['offset'])/div['freq'])+1) ]\n",
    "\n",
    "V = np.zeros(N + 1)  # initialize the price vector\n",
    "S_T = np.array([(S0 * u**j * d ** (N - j)) for j in range(N + 1)]) \n",
    "\n",
    "a = np.exp(r * dT)  # risk free compound return\n",
    "p = (a - d) / (u - d)  # risk neutral up probability\n",
    "q = 1.0 - p  # risk neutral down probability\n",
    "\n",
    "# Determine the number of dividends paid in total\n",
    "num_dividends = int((T - div['offset']) / div['freq'])\n",
    "dividend_adjustment = (1 - div['yield']) ** num_dividends\n",
    "S_T = S_T * dividend_adjustment\n",
    "\n",
    "if payoff == \"call\":\n",
    "    V[:] = np.maximum(S_T - K, 0.0)\n",
    "elif payoff == \"put\":\n",
    "    V[:] = np.maximum(K - S_T, 0.0)\n",
    "\n",
    "for i in range(N - 1, -1, -1):\n",
    "\n",
    "        \n",
    "    V[:-1] = np.exp(-r * dT) * (p * V[1:] + q * V[:-1])  # the price vector is overwritten at each step\n",
    "    \n",
    "    S_T = S_T * u  # it is a tricky way to obtain the price at the previous time step\n",
    "\n",
    "    # if we pass threshold, we can divide by (1-div)\n",
    "    if div_times:\n",
    "        if i * dT < div_times[-1]:\n",
    "            S_T = S_T / (1 - div['yield'])\n",
    "            div_times.pop(-1)\n",
    "    \n",
    "    if payoff == \"call\":\n",
    "        V = np.maximum(V, S_T - K)\n",
    "    elif payoff == \"put\":\n",
    "        V = np.maximum(V, K - S_T)\n",
    "            \n",
    "\n",
    "print(\"American BS Tree Price: \", V[0])"
   ]
  },
  {
   "cell_type": "code",
   "execution_count": 404,
   "metadata": {
    "ExecuteTime": {
     "end_time": "2023-12-11T23:34:36.150753600Z",
     "start_time": "2023-12-11T23:34:36.058892700Z"
    }
   },
   "outputs": [
    {
     "name": "stdout",
     "output_type": "stream",
     "text": [
      "continuous w ql: 0.5574854112718169\n",
      "continuous w mine: 0.5608236580855579\n",
      "market bid: 0.59\n",
      "market ask: 0.6\n"
     ]
    }
   ],
   "source": [
    "def my_price(quote, opt_type, rho):\n",
    "    S0 = quote['active_underlying_price'] # spot stock price\n",
    "    K = quote['strike']  # strike\n",
    "    T = (quote['expiration'] - quote['quote_date']).days / 365 # maturity\n",
    "    index = treasury_rates[treasury_rates[\"Date\"] == quote[\"quote_date\"]].index\n",
    "    \n",
    "    # Make the risk free rate align with the treasury rates of that day\n",
    "    r = treasury_rates[\"1 Mo\"].iloc[index].values[0] / 100\n",
    "    \n",
    "    if rho == True:\n",
    "        r += 0.01\n",
    "    \n",
    "    sig = quote['implied_volatility']  # volatility\n",
    "    div = 0.0141\n",
    "    \n",
    "    \n",
    "    N = 2500  # number of periods or number of time steps\n",
    "    payoff = opt_type  # payoff\n",
    "\n",
    "    dT = float(T) / N  # Delta t\n",
    "    u = np.exp(sig * np.sqrt(dT))  # up factor with divident\n",
    "    d = 1.0 / u  # down factor\n",
    "\n",
    "    V = np.zeros(N + 1)  # initialize the price vector\n",
    "    S_T = np.array([(S0 * u**j * d ** (N - j)) for j in range(N + 1)]) \n",
    "\n",
    "    a = np.exp((r - div) * dT)  # risk free compound return\n",
    "    p = (a - d) / (u - d)  # risk neutral up probability\n",
    "    q = 1.0 - p  # risk neutral down probability\n",
    "\n",
    "    if payoff == \"call\":\n",
    "        V[:] = np.maximum(S_T - K, 0.0)\n",
    "    elif payoff == \"put\":\n",
    "        V[:] = np.maximum(K - S_T, 0.0)\n",
    "\n",
    "    for i in range(N - 1, -1, -1):\n",
    "\n",
    "        V[:-1] = np.exp(-r * dT) * (p * V[1:] + q * V[:-1])  # the price vector is overwritten at each step\n",
    "        \n",
    "        S_T = S_T * u  # it is a tricky way to obtain the price at the previous time step\n",
    "\n",
    "        if payoff == \"call\":\n",
    "            V = np.maximum(V, S_T - K)\n",
    "        elif payoff == \"put\":\n",
    "            V = np.maximum(V, K - S_T)\n",
    "                \n",
    "\n",
    "    return V[0]\n",
    "\n",
    "print('continuous w ql:', price_w_ql(test, \"call\"))\n",
    "print('continuous w mine:', my_price(test, 'call', False))\n",
    "print('market bid:', test['bid'])\n",
    "print('market ask:', test['ask'])"
   ]
  },
  {
   "cell_type": "code",
   "execution_count": 405,
   "outputs": [
    {
     "name": "stdout",
     "output_type": "stream",
     "text": [
      "calculated delta 0.0845\n",
      "market delta: 0.0863\n"
     ]
    }
   ],
   "source": [
    "def calculate_delta(quote, opt_type, delta_S0_percent):\n",
    "    original_price = my_price(quote, opt_type, False)  # Original option price\n",
    "\n",
    "    # Increase the stock price by a small percentage\n",
    "    quote_modified = quote.copy()\n",
    "    quote_modified['active_underlying_price'] *= (1 + delta_S0_percent)\n",
    "\n",
    "    # Recalculate the option price with the increased stock price\n",
    "    new_price = my_price(quote_modified, opt_type, False)\n",
    "\n",
    "    # Calculate Delta\n",
    "    delta_S0 = quote['active_underlying_price'] * delta_S0_percent\n",
    "    delta = (new_price - original_price) / delta_S0\n",
    "\n",
    "    return delta\n",
    "\n",
    "print(\"calculated delta\", round(calculate_delta(test, \"call\", 0.001), 4))\n",
    "print(\"market delta:\", test[\"delta\"])"
   ],
   "metadata": {
    "collapsed": false,
    "ExecuteTime": {
     "end_time": "2023-12-11T23:34:39.363390Z",
     "start_time": "2023-12-11T23:34:39.269716100Z"
    }
   }
  },
  {
   "cell_type": "code",
   "execution_count": 406,
   "outputs": [
    {
     "name": "stdout",
     "output_type": "stream",
     "text": [
      "calculated gamma: 0.0099\n",
      "market gamma: 0.0103\n"
     ]
    }
   ],
   "source": [
    "def calculate_gamma(quote, opt_type, delta_S0_percent):\n",
    "    # Calculate Delta at the original stock price\n",
    "    original_delta = calculate_delta(quote, opt_type, delta_S0_percent)\n",
    "\n",
    "    # Increase the stock price and calculate the new Delta\n",
    "    quote_increased = quote.copy()\n",
    "    quote_increased['active_underlying_price'] *= (1 + delta_S0_percent)\n",
    "    delta_increased = calculate_delta(quote_increased, opt_type, delta_S0_percent)\n",
    "\n",
    "    # Decrease the stock price and calculate the new Delta\n",
    "    quote_decreased = quote.copy()\n",
    "    quote_decreased['active_underlying_price'] *= (1 - delta_S0_percent)\n",
    "    delta_decreased = calculate_delta(quote_decreased, opt_type, delta_S0_percent)\n",
    "\n",
    "    # Calculate Gamma\n",
    "    delta_S0 = quote['active_underlying_price'] * delta_S0_percent\n",
    "    gamma = (delta_increased - delta_decreased) / (2 * delta_S0)\n",
    "\n",
    "    return gamma\n",
    "\n",
    "print(\"calculated gamma:\", round(calculate_gamma(test, \"call\", 0.001), 4))\n",
    "print(\"market gamma:\", test[\"gamma\"])"
   ],
   "metadata": {
    "collapsed": false,
    "ExecuteTime": {
     "end_time": "2023-12-11T23:34:41.850938100Z",
     "start_time": "2023-12-11T23:34:41.603988500Z"
    }
   }
  },
  {
   "cell_type": "code",
   "execution_count": 407,
   "outputs": [
    {
     "name": "stdout",
     "output_type": "stream",
     "text": [
      "calculated vega: 0.1749\n",
      "market vega: 0.1795\n"
     ]
    }
   ],
   "source": [
    "def calculate_vega(quote, opt_type, delta_sig):\n",
    "    original_price = my_price(quote, opt_type, False)  # Original option price\n",
    "\n",
    "    # Increase the implied volatility by a small absolute amount (e.g., 1 percentage point)\n",
    "    quote_modified = quote.copy()\n",
    "    quote_modified['implied_volatility'] += delta_sig\n",
    "\n",
    "    # Recalculate the option price with the modified volatility\n",
    "    new_price = my_price(quote_modified, opt_type, False)\n",
    "\n",
    "    # Calculate Vega\n",
    "    vega = ((new_price - original_price) / delta_sig) / 100\n",
    "\n",
    "    return vega\n",
    "\n",
    "print(\"calculated vega:\", round(calculate_vega(test, \"call\", 0.01), 4))\n",
    "print(\"market vega:\", test[\"vega\"])"
   ],
   "metadata": {
    "collapsed": false,
    "ExecuteTime": {
     "end_time": "2023-12-11T23:34:44.681709100Z",
     "start_time": "2023-12-11T23:34:44.594447200Z"
    }
   }
  },
  {
   "cell_type": "code",
   "execution_count": 408,
   "outputs": [
    {
     "name": "stdout",
     "output_type": "stream",
     "text": [
      "Calculated Theta: -0.0513\n",
      "Market Theta: -0.0489\n"
     ]
    }
   ],
   "source": [
    "from pandas.tseries.offsets import BDay\n",
    "\n",
    "def calculate_theta(quote, opt_type, delta_t_days):\n",
    "    original_price = my_price(quote, opt_type, False)  # Original option price\n",
    "\n",
    "    # Decrease the time to expiration by one business day\n",
    "    quote_modified = quote.copy()\n",
    "    quote_modified['expiration'] = pd.to_datetime(quote_modified['expiration']) - BDay(delta_t_days)\n",
    "\n",
    "    # Check if the modified expiration is still in the future\n",
    "    if (quote_modified['expiration'] - pd.to_datetime(quote_modified['quote_date'])).days > 0:\n",
    "        # Recalculate the option price with the adjusted time to expiration\n",
    "        new_price = my_price(quote_modified, opt_type, False)\n",
    "\n",
    "        # Calculate Theta\n",
    "        theta = (new_price - original_price) / delta_t_days\n",
    "    else:\n",
    "        theta = 0  # If expiration has passed, theta is zero\n",
    "\n",
    "    return theta\n",
    "\n",
    "# Example usage\n",
    "print(\"Calculated Theta:\", round(calculate_theta(test, \"call\", 1), 4))\n",
    "print(\"Market Theta:\", test[\"theta\"])\n"
   ],
   "metadata": {
    "collapsed": false,
    "ExecuteTime": {
     "end_time": "2023-12-11T23:34:47.500884500Z",
     "start_time": "2023-12-11T23:34:47.391089800Z"
    }
   }
  },
  {
   "cell_type": "code",
   "execution_count": 409,
   "outputs": [
    {
     "name": "stdout",
     "output_type": "stream",
     "text": [
      "calculated rho: 0.0227\n",
      "market rho: 0.0233\n"
     ]
    }
   ],
   "source": [
    "def calculate_rho(quote, opt_type, delta_r):\n",
    "    original_price = my_price(quote, opt_type, False)  # Original option price\n",
    "    \n",
    "    # Increase the risk-free interest rate by a small absolute amount (e.g., 1 percentage point)\n",
    "    quote_modified = quote.copy()\n",
    "    # Recalculate the option price with the modified interest rate\n",
    "    new_price = my_price(quote_modified, opt_type, True)\n",
    "\n",
    "    # Calculate Rho\n",
    "    rho = ((new_price - original_price) / delta_r) / 100\n",
    "\n",
    "    return rho\n",
    "\n",
    "print(\"calculated rho:\", round(calculate_rho(test, \"call\", 0.01), 4))\n",
    "print(\"market rho:\", test[\"rho\"])"
   ],
   "metadata": {
    "collapsed": false,
    "ExecuteTime": {
     "end_time": "2023-12-11T23:34:50.073286900Z",
     "start_time": "2023-12-11T23:34:49.962080900Z"
    }
   }
  },
  {
   "cell_type": "code",
   "execution_count": 410,
   "metadata": {
    "ExecuteTime": {
     "end_time": "2023-12-11T23:34:52.542638800Z",
     "start_time": "2023-12-11T23:34:52.527307700Z"
    }
   },
   "outputs": [
    {
     "data": {
      "text/plain": "quote_date                 2023-10-03 00:00:00\nexpiration                 2023-10-27 00:00:00\nT                                           24\nimplied_volatility                      0.1413\nactive_underlying_price                 421.68\nstrike                                   445.0\nbid                                       0.59\nask                                        0.6\ndelta                                   0.0863\ngamma                                   0.0103\ntheta                                  -0.0489\nvega                                    0.1795\nrho                                     0.0233\nName: 6220, dtype: object"
     },
     "execution_count": 410,
     "metadata": {},
     "output_type": "execute_result"
    }
   ],
   "source": [
    "test = daily_chains['2023-10-03']['calls'].iloc[700]\n",
    "#test_day['calls']['T'].unique()\n",
    "test"
   ]
  },
  {
   "cell_type": "code",
   "execution_count": 411,
   "outputs": [
    {
     "name": "stdout",
     "output_type": "stream",
     "text": [
      "Average Error in Delta Calculation: 0.27999999999999997 %\n",
      "Average Error in Gamma Calculation: 0.1 %\n",
      "Average Error in Vega Calculation: 0.48 %\n",
      "Average Error in Theta Calculation: 2.1999999999999997 %\n",
      "Average Error in Rho Calculation: 0.13999999999999999 %\n"
     ]
    }
   ],
   "source": [
    "from pandas.tseries.offsets import BDay\n",
    "\n",
    "day = pd.Timestamp(\"2023-10-02\")\n",
    "delta_err = 0\n",
    "gamma_err = 0\n",
    "vega_err = 0\n",
    "theta_err = 0\n",
    "rho_err = 0\n",
    "\n",
    "k = len(daily_chains)\n",
    "\n",
    "for i in range(len(daily_chains)):\n",
    "    quote = daily_chains[day.strftime('%Y-%m-%d')][\"calls\"].iloc[700]\n",
    "    day += BDay(1)   \n",
    "    try:\n",
    "        delta_err += abs(quote[\"delta\"] - calculate_delta(quote, \"call\", 0.001))\n",
    "        gamma_err += abs(quote[\"gamma\"] - calculate_gamma(quote, \"call\", 0.001))\n",
    "        vega_err += abs(quote[\"vega\"] - calculate_vega(quote, \"call\", 0.001))\n",
    "        theta_err += abs(quote[\"theta\"] - calculate_theta(quote, \"call\", 1))\n",
    "        rho_err += abs(quote[\"rho\"] - calculate_rho(quote, \"call\", 0.01))\n",
    "    except IndexError:\n",
    "        k -= 1\n",
    "        continue\n",
    "        \n",
    "        \n",
    "print(\"Average Error in Delta Calculation:\", round(delta_err / k, 4) * 100, \"%\")\n",
    "print(\"Average Error in Gamma Calculation:\", round(gamma_err / k, 4) * 100, \"%\")\n",
    "print(\"Average Error in Vega Calculation:\", round(vega_err / k, 4) * 100, \"%\")\n",
    "print(\"Average Error in Theta Calculation:\", round(theta_err / k, 4) * 100, \"%\")\n",
    "print(\"Average Error in Rho Calculation:\", round(rho_err / k, 4) * 100, \"%\")"
   ],
   "metadata": {
    "collapsed": false,
    "ExecuteTime": {
     "end_time": "2023-12-11T23:35:04.499096800Z",
     "start_time": "2023-12-11T23:34:53.849919800Z"
    }
   }
  },
  {
   "cell_type": "code",
   "execution_count": null,
   "outputs": [],
   "source": [],
   "metadata": {
    "collapsed": false
   }
  }
 ],
 "metadata": {
  "kernelspec": {
   "display_name": "vol3",
   "language": "python",
   "name": "python3"
  },
  "language_info": {
   "codemirror_mode": {
    "name": "ipython",
    "version": 3
   },
   "file_extension": ".py",
   "mimetype": "text/x-python",
   "name": "python",
   "nbconvert_exporter": "python",
   "pygments_lexer": "ipython3",
   "version": "3.11.5"
  },
  "orig_nbformat": 4
 },
 "nbformat": 4,
 "nbformat_minor": 2
}
