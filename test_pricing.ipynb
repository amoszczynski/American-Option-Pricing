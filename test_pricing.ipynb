{
 "cells": [
  {
   "cell_type": "code",
   "execution_count": 68,
   "metadata": {},
   "outputs": [],
   "source": [
    "import numpy as np\n",
    "import pandas as pd\n",
    "import os\n",
    "import datetime\n",
    "from collections import OrderedDict\n",
    "import datetime as dt\n",
    "import QuantLib as ql"
   ]
  },
  {
   "cell_type": "markdown",
   "metadata": {},
   "source": [
    "File collection"
   ]
  },
  {
   "cell_type": "code",
   "execution_count": 2,
   "metadata": {},
   "outputs": [
    {
     "ename": "NameError",
     "evalue": "name 'OrderedDict' is not defined",
     "output_type": "error",
     "traceback": [
      "\u001b[0;31m---------------------------------------------------------------------------\u001b[0m",
      "\u001b[0;31mNameError\u001b[0m                                 Traceback (most recent call last)",
      "Cell \u001b[0;32mIn[2], line 1\u001b[0m\n\u001b[0;32m----> 1\u001b[0m daily_chains \u001b[39m=\u001b[39m OrderedDict()\n\u001b[1;32m      2\u001b[0m files \u001b[39m=\u001b[39m \u001b[39msorted\u001b[39m(os\u001b[39m.\u001b[39mlistdir(\u001b[39m'\u001b[39m\u001b[39mspy_data\u001b[39m\u001b[39m'\u001b[39m))\n\u001b[1;32m      4\u001b[0m \u001b[39mfor\u001b[39;00m file \u001b[39min\u001b[39;00m files:\n",
      "\u001b[0;31mNameError\u001b[0m: name 'OrderedDict' is not defined"
     ]
    }
   ],
   "source": [
    "daily_chains = OrderedDict()\n",
    "files = sorted(os.listdir('spy_data'))\n",
    "\n",
    "for file in files:\n",
    "    if file[-4:] == '.csv':\n",
    "        df = pd.read_csv('spy_data/' + file)        \n",
    "        \n",
    "        # moving to datetime and making features\n",
    "        df['quote_datetime'] = pd.to_datetime(df['quote_datetime'])\n",
    "        df['expiration'] = pd.to_datetime(df['expiration'])\n",
    "        df['quote_date'] = df['quote_datetime'][0].date()\n",
    "        df['quote_date'] = pd.to_datetime(df['quote_date'])\n",
    "        \n",
    "        # getting only 4:00 quotes\n",
    "        eod = datetime.datetime.combine(df['quote_datetime'][0].date(), datetime.time(16,0, 0))\n",
    "        df = df.loc[df['quote_datetime'] == eod]\n",
    "        \n",
    "        # getting time to expiration and moneyness\n",
    "        df['T'] = df['expiration'] - df['quote_date']\n",
    "        df['T'] = df['T'].dt.days\n",
    "        \n",
    "        # filtering for research paper criteria\n",
    "        df = df.loc[df['close']!=0]\n",
    "                    \n",
    "        calls = df.loc[df['option_type']=='C'][['quote_date', 'expiration', 'T','implied_volatility', 'active_underlying_price', 'strike', 'bid', 'ask']]\n",
    "        puts = df.loc[df['option_type']=='P'][['quote_date','expiration', 'T', 'implied_volatility', 'active_underlying_price', 'strike', 'bid', 'ask']]\n",
    "        \n",
    "        daily_chains[file[-14:-4]] = {'calls':calls, 'puts':puts}"
   ]
  },
  {
   "cell_type": "code",
   "execution_count": 80,
   "metadata": {},
   "outputs": [],
   "source": [
    "def time_to_div(day):\n",
    "    \"\"\"fraction of years until next dividend\"\"\"\n",
    "    \n",
    "    # get offset \n",
    "    divs = [\"09-15\", \"06-16\", \"03-17\", \"12-16\"]\n",
    "    div_dates = sorted([dt.datetime.strptime(f'{day.year}-{date}', '%Y-%m-%d') for date in divs])\n",
    "    \n",
    "    # get next dividend \n",
    "    for date in div_dates:\n",
    "        if day <= date:\n",
    "            return (date - day).days / 365\n",
    "    \n",
    "    return (div_dates[0].replace(year=day.year + 1) - day).days / 365"
   ]
  },
  {
   "cell_type": "markdown",
   "metadata": {},
   "source": [
    "American pricing with QuantLib"
   ]
  },
  {
   "cell_type": "code",
   "execution_count": 314,
   "metadata": {},
   "outputs": [],
   "source": [
    "def price_w_ql(quote, opt_type):\n",
    "\n",
    "    exp = quote['expiration']\n",
    "    day = quote['quote_date']\n",
    "\n",
    "    # option data\n",
    "    maturity_date = ql.Date(exp.day, exp.month, exp.year)\n",
    "    spot_price = quote['active_underlying_price']\n",
    "    strike_price = quote['strike']\n",
    "    volatility = quote['implied_volatility'] # the historical vols or implied vols\n",
    "    dividend_rate =  0.0141\n",
    "    if opt_type == \"call\":\n",
    "        option_type = ql.Option.Call\n",
    "    elif opt_type == \"put\":\n",
    "        option_type = ql.Option.Put\n",
    "\n",
    "    risk_free_rate = 0.054\n",
    "    div_yield = 0.0141\n",
    "    day_count = ql.Actual365Fixed()\n",
    "    #calendar = ql.UnitedStates()\n",
    "    calendar = ql.UnitedStates(ql.UnitedStates.NYSE)\n",
    "    calculation_date = ql.Date(day.day, day.month, day.year)\n",
    "    ql.Settings.instance().evaluationDate = calculation_date\n",
    "    \n",
    "    payoff = ql.PlainVanillaPayoff(option_type, strike_price)\n",
    "    settlement = calculation_date\n",
    "\n",
    "    am_exercise = ql.AmericanExercise(settlement, maturity_date)\n",
    "    american_option = ql.VanillaOption(payoff, am_exercise)\n",
    "\n",
    "    spot_handle = ql.QuoteHandle(\n",
    "    ql.SimpleQuote(spot_price)\n",
    "    )\n",
    "    flat_ts = ql.YieldTermStructureHandle(\n",
    "        ql.FlatForward(calculation_date, risk_free_rate, day_count)\n",
    "    )\n",
    "    dividend_yield = ql.YieldTermStructureHandle(\n",
    "        ql.FlatForward(calculation_date, div_yield, day_count)\n",
    "    )\n",
    "    flat_vol_ts = ql.BlackVolTermStructureHandle(\n",
    "        ql.BlackConstantVol(calculation_date, calendar, volatility, day_count)\n",
    "    )\n",
    "    bsm_process = ql.BlackScholesMertonProcess(spot_handle, \n",
    "                                            dividend_yield, \n",
    "                                            flat_ts, \n",
    "                                            flat_vol_ts)\n",
    "    \n",
    "    steps = 2500\n",
    "    binomial_engine = ql.BinomialVanillaEngine(bsm_process, \"crr\", steps)\n",
    "    american_option.setPricingEngine(binomial_engine)\n",
    "    return american_option.NPV()"
   ]
  },
  {
   "cell_type": "code",
   "execution_count": 315,
   "metadata": {},
   "outputs": [
    {
     "data": {
      "text/plain": [
       "42.90115252626289"
      ]
     },
     "execution_count": 315,
     "metadata": {},
     "output_type": "execute_result"
    }
   ],
   "source": [
    "price_w_ql(daily_chains['2023-10-02']['calls'].iloc[1500], \"call\")"
   ]
  },
  {
   "cell_type": "markdown",
   "metadata": {},
   "source": [
    "American binomial tree option pricer with discrete dividends"
   ]
  },
  {
   "cell_type": "code",
   "execution_count": 156,
   "metadata": {},
   "outputs": [],
   "source": [
    "S0 = 100.0  # spot stock price\n",
    "K = 100.0  # strike\n",
    "T = 1.0  # maturity\n",
    "r = 0.1  # risk free rate\n",
    "sig = 0.2  # diffusion coefficient or volatility"
   ]
  },
  {
   "cell_type": "code",
   "execution_count": 158,
   "metadata": {},
   "outputs": [
    {
     "name": "stdout",
     "output_type": "stream",
     "text": [
      "American BS Tree Price:  5.0313121291786995\n"
     ]
    }
   ],
   "source": [
    "N = 25000  # number of periods or number of time steps\n",
    "payoff = \"put\"  # payoff\n",
    "\n",
    "dT = float(T) / N  # Delta t\n",
    "u = np.exp(sig * np.sqrt(dT))  # up factor\n",
    "d = 1.0 / u  # down factor\n",
    "\n",
    "# yield is the quarterly yield\n",
    "div = {'yield': 0.003556, 'freq': 0.25, 'offset': time_to_div()}\n",
    "\n",
    "# get in time T, when dividends occur\n",
    "div_times = [div['offset']+n*div['freq'] for n in range(int((T-div['offset'])/div['freq'])+1) ]\n",
    "\n",
    "V = np.zeros(N + 1)  # initialize the price vector\n",
    "S_T = np.array([(S0 * u**j * d ** (N - j)) for j in range(N + 1)]) \n",
    "\n",
    "a = np.exp(r * dT)  # risk free compound return\n",
    "p = (a - d) / (u - d)  # risk neutral up probability\n",
    "q = 1.0 - p  # risk neutral down probability\n",
    "\n",
    "# Determine the number of dividends paid in total\n",
    "num_dividends = int((T - div['offset']) / div['freq'])\n",
    "dividend_adjustment = (1 - div['yield']) ** num_dividends\n",
    "S_T = S_T * dividend_adjustment\n",
    "\n",
    "if payoff == \"call\":\n",
    "    V[:] = np.maximum(S_T - K, 0.0)\n",
    "elif payoff == \"put\":\n",
    "    V[:] = np.maximum(K - S_T, 0.0)\n",
    "\n",
    "for i in range(N - 1, -1, -1):\n",
    "\n",
    "        \n",
    "    V[:-1] = np.exp(-r * dT) * (p * V[1:] + q * V[:-1])  # the price vector is overwritten at each step\n",
    "    \n",
    "    S_T = S_T * u  # it is a tricky way to obtain the price at the previous time step\n",
    "\n",
    "    # if we pass threshold, we can divide by (1-div)\n",
    "    if div_times:\n",
    "        if i * dT < div_times[-1]:\n",
    "            S_T = S_T / (1 - div['yield'])\n",
    "            div_times.pop(-1)\n",
    "    \n",
    "    if payoff == \"call\":\n",
    "        V = np.maximum(V, S_T - K)\n",
    "    elif payoff == \"put\":\n",
    "        V = np.maximum(V, K - S_T)\n",
    "            \n",
    "\n",
    "print(\"American BS Tree Price: \", V[0])"
   ]
  },
  {
   "cell_type": "code",
   "execution_count": 316,
   "metadata": {},
   "outputs": [],
   "source": [
    "def my_price(quote, opt_type):\n",
    "    S0 = quote['active_underlying_price'] # spot stock price\n",
    "    K = quote['strike']  # strike\n",
    "    T = (test['expiration'] - test['quote_date']).days / 365 # maturity\n",
    "    r = 0.054  # risk free rate\n",
    "    sig = quote['implied_volatility']  # volatility\n",
    "    div = 0.0141\n",
    "    \n",
    "    N = 2500  # number of periods or number of time steps\n",
    "    payoff = opt_type  # payoff\n",
    "\n",
    "    dT = float(T) / N  # Delta t\n",
    "    u = np.exp(sig * np.sqrt(dT))  # up factor with divident\n",
    "    d = 1.0 / u  # down factor\n",
    "\n",
    "    V = np.zeros(N + 1)  # initialize the price vector\n",
    "    S_T = np.array([(S0 * u**j * d ** (N - j)) for j in range(N + 1)]) \n",
    "\n",
    "    a = np.exp((r - div) * dT)  # risk free compound return\n",
    "    p = (a - d) / (u - d)  # risk neutral up probability\n",
    "    q = 1.0 - p  # risk neutral down probability\n",
    "\n",
    "    if payoff == \"call\":\n",
    "        V[:] = np.maximum(S_T - K, 0.0)\n",
    "    elif payoff == \"put\":\n",
    "        V[:] = np.maximum(K - S_T, 0.0)\n",
    "\n",
    "    for i in range(N - 1, -1, -1):\n",
    "\n",
    "        V[:-1] = np.exp(-r * dT) * (p * V[1:] + q * V[:-1])  # the price vector is overwritten at each step\n",
    "        \n",
    "        S_T = S_T * u  # it is a tricky way to obtain the price at the previous time step\n",
    "\n",
    "        if payoff == \"call\":\n",
    "            V = np.maximum(V, S_T - K)\n",
    "        elif payoff == \"put\":\n",
    "            V = np.maximum(V, K - S_T)\n",
    "                \n",
    "\n",
    "    return V[0]"
   ]
  },
  {
   "cell_type": "code",
   "execution_count": 1,
   "metadata": {},
   "outputs": [
    {
     "ename": "NameError",
     "evalue": "name 'daily_chains' is not defined",
     "output_type": "error",
     "traceback": [
      "\u001b[0;31m---------------------------------------------------------------------------\u001b[0m",
      "\u001b[0;31mNameError\u001b[0m                                 Traceback (most recent call last)",
      "Cell \u001b[0;32mIn[1], line 1\u001b[0m\n\u001b[0;32m----> 1\u001b[0m test_day \u001b[39m=\u001b[39m daily_chains[\u001b[39m'\u001b[39m\u001b[39m2023-10-02\u001b[39m\u001b[39m'\u001b[39m][\u001b[39m'\u001b[39m\u001b[39mcalls\u001b[39m\u001b[39m'\u001b[39m]\u001b[39m.\u001b[39miloc[\u001b[39m700\u001b[39m]\n\u001b[1;32m      2\u001b[0m \u001b[39m#test_day['calls']['T'].unique()\u001b[39;00m\n\u001b[1;32m      3\u001b[0m test_day\n",
      "\u001b[0;31mNameError\u001b[0m: name 'daily_chains' is not defined"
     ]
    }
   ],
   "source": [
    "test_day = daily_chains['2023-10-02']['calls'].iloc[700]\n",
    "#test_day['calls']['T'].unique()\n",
    "test_day"
   ]
  },
  {
   "cell_type": "code",
   "execution_count": 327,
   "metadata": {},
   "outputs": [
    {
     "name": "stdout",
     "output_type": "stream",
     "text": [
      "[  0   1   2   3   4   7   8   9  10  11  14  18  25  32  39  46  74  88\n",
      " 109 137 165 178 263 270 354 364 445 473 536 627 809 837]\n"
     ]
    }
   ],
   "source": [
    "test_day = daily_chains['2023-10-02']\n",
    "print(test_day['calls']['T'].unique())"
   ]
  },
  {
   "cell_type": "code",
   "execution_count": 319,
   "metadata": {},
   "outputs": [
    {
     "name": "stdout",
     "output_type": "stream",
     "text": [
      "continuous w ql: 11.197978672949027\n",
      "discrete: 11.465948407592396\n",
      "market bid: 11.54\n",
      "market ask: 11.6\n"
     ]
    }
   ],
   "source": [
    "print('continuous w ql:', price_w_ql(test, \"call\"))\n",
    "print('continuous w mine:', price_w_discrete(test, 'call'))\n",
    "print('market bid:', test['bid'])\n",
    "print('market ask:', test['ask'])"
   ]
  },
  {
   "cell_type": "code",
   "execution_count": 334,
   "metadata": {},
   "outputs": [
    {
     "data": {
      "image/png": "[encoded data removed]",
      "text/plain": [
       "<Figure size 640x480 with 1 Axes>"
      ]
     },
     "metadata": {},
     "output_type": "display_data"
    }
   ],
   "source": [
    "import matplotlib.pyplot as plt\n",
    "\n",
    "c = test_day['calls']\n",
    "p = test_day['puts']\n",
    "c = c.loc[c['T']==263]\n",
    "p = p.loc[p['T']==263]\n",
    "\n",
    "c.sort_values(by='strike')\n",
    "p.sort_values(by='strike')\n",
    "\n",
    "c_ql = c.apply(lambda row: price_w_ql(row, \"call\"), axis=1)\n",
    "#c_dcr = c.apply(lambda row: price_w_discrete(row, \"call\"), axis=1)\n",
    "mid = c.apply(lambda row: (row['bid'] + row['ask'])/2, axis=1)\n",
    "\n",
    "plt.plot(c['strike'], c_ql - mid, label='QL market diff')\n",
    "#plt.plot(c['strike'], c_dcr - mid, label='My market diff')\n",
    "\n",
    "plt.legend()\n",
    "plt.show()"
   ]
  },
  {
   "cell_type": "code",
   "execution_count": 335,
   "metadata": {},
   "outputs": [
    {
     "data": {
      "image/png": "[encoded data removed]",
      "text/plain": [
       "<Figure size 640x480 with 1 Axes>"
      ]
     },
     "metadata": {},
     "output_type": "display_data"
    }
   ],
   "source": [
    "p_ql = p.apply(lambda row: price_w_ql(row, \"put\"), axis=1)\n",
    "p_dcr = p.apply(lambda row: price_w_discrete(row, \"put\"), axis=1)\n",
    "pmid = p.apply(lambda row: (row['bid'] + row['ask'])/2, axis=1)\n",
    "\n",
    "plt.plot(p['strike'], p_ql - pmid, label='QL market diff')\n",
    "#plt.plot(p['strike'], p_dcr - pmid, label='My market diff')\n",
    "\n",
    "plt.title(\"put pricing difference\")\n",
    "plt.legend()\n",
    "plt.show()\n"
   ]
  }
 ],
 "metadata": {
  "kernelspec": {
   "display_name": "vol3",
   "language": "python",
   "name": "python3"
  },
  "language_info": {
   "codemirror_mode": {
    "name": "ipython",
    "version": 3
   },
   "file_extension": ".py",
   "mimetype": "text/x-python",
   "name": "python",
   "nbconvert_exporter": "python",
   "pygments_lexer": "ipython3",
   "version": "3.11.5"
  },
  "orig_nbformat": 4
 },
 "nbformat": 4,
 "nbformat_minor": 2
}
