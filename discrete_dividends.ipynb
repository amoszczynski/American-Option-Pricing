{
 "cells": [
  {
   "cell_type": "code",
   "execution_count": 20,
   "metadata": {},
   "outputs": [],
   "source": [
    "import numpy as np\n",
    "import pandas as pd\n",
    "import datetime as dt\n",
    "\n",
    "from collections import OrderedDict\n",
    "import os"
   ]
  },
  {
   "cell_type": "code",
   "execution_count": 3,
   "metadata": {},
   "outputs": [],
   "source": [
    "def time_to_div(day):\n",
    "    \"\"\"fraction of years until next dividend\"\"\"\n",
    "    \n",
    "    # get offset \n",
    "    divs = [\"09-15\", \"06-16\", \"03-17\", \"12-16\"]\n",
    "    div_dates = sorted([dt.datetime.strptime(f'{day.year}-{date}', '%Y-%m-%d') for date in divs])\n",
    "    \n",
    "    # get next dividend \n",
    "    for date in div_dates:\n",
    "        if day <= date:\n",
    "            return (date - day).days / 365\n",
    "    \n",
    "    return (div_dates[0].replace(year=day.year + 1) - day).days / 365"
   ]
  },
  {
   "cell_type": "markdown",
   "metadata": {},
   "source": [
    "#### Algorithm\n",
    "\n",
    "recombining tree with proportional dividends as described by hull, 21.3\n",
    "\n",
    "quarterly dividend payout for SPY, $\\delta$ set at 0.03556"
   ]
  },
  {
   "cell_type": "markdown",
   "metadata": {},
   "source": [
    "parameters"
   ]
  },
  {
   "cell_type": "code",
   "execution_count": 17,
   "metadata": {},
   "outputs": [],
   "source": [
    "# inputs\n",
    "S0 = 100.0  # spot stock price\n",
    "K = 100.0  # strike\n",
    "T = 1.0  # maturity\n",
    "r = 0.1  # risk free rate\n",
    "sig = 0.2  # annualized volatility\n",
    "N = 2500 # number of time steps\n",
    "payoff = \"call\"\n",
    "\n",
    "# initialization\n",
    "dT = float(T) / N  # Delta t\n",
    "u = np.exp(sig * np.sqrt(dT))  # up factor\n",
    "d = 1.0 / u  # down factor\n",
    "\n",
    "a = np.exp(r * dT)  # risk free compound return\n",
    "p = (a - d) / (u - d)  # risk neutral up probability\n",
    "q = 1.0 - p  # risk neutral down probability"
   ]
  },
  {
   "cell_type": "markdown",
   "metadata": {},
   "source": [
    "dividend set up"
   ]
  },
  {
   "cell_type": "code",
   "execution_count": 18,
   "metadata": {},
   "outputs": [],
   "source": [
    "div_yield = 0.003556 # quarterly payout\n",
    "div_freq = 0.25 # quarterly\n",
    "div_offset = time_to_div(dt.datetime.today()) # time in years until first dividend\n",
    "\n",
    "# number of dividends that will occur in option lifetime\n",
    "num_div = int((T - div_offset) / div_freq) + 1\n",
    "\n",
    "# times in years at which dividends will occur\n",
    "div_times = [div_offset + n*div_freq for n in range(0, num_div) ]"
   ]
  },
  {
   "cell_type": "markdown",
   "metadata": {},
   "source": [
    "algorithm"
   ]
  },
  {
   "cell_type": "code",
   "execution_count": 19,
   "metadata": {},
   "outputs": [
    {
     "name": "stdout",
     "output_type": "stream",
     "text": [
      "American call Price:  12.259913945834006\n"
     ]
    }
   ],
   "source": [
    "# initialize price vector\n",
    "V = np.zeros(N + 1)  \n",
    "S_T = np.array([(S0 * u**j * d ** (N - j)) for j in range(N + 1)]) \n",
    "\n",
    "# adjusting price for number of dividends that has occured\n",
    "S_T = S_T * (1 - div_yield)**num_div\n",
    "\n",
    "# payoff function\n",
    "if payoff == \"call\":\n",
    "    V[:] = np.maximum(S_T - K, 0.0)\n",
    "elif payoff == \"put\":\n",
    "    V[:] = np.maximum(K - S_T, 0.0)\n",
    "\n",
    "# backwards iteration\n",
    "for i in range(N - 1, -1, -1):\n",
    "    \n",
    "    # the price vector is overwritten at each step\n",
    "    V[:-1] = np.exp(-r * dT) * (p * V[1:] + q * V[:-1]) \n",
    "    \n",
    "    # obtain the price at the previous time step\n",
    "    S_T = S_T * u  \n",
    "\n",
    "    # if we pass a dividend time, we can divide by (1-div)\n",
    "    if div_times:\n",
    "        if i * dT < div_times[-1]:\n",
    "            S_T = S_T / (1 - div_yield)\n",
    "            div_times.pop(-1)\n",
    "    \n",
    "    # american early exercise \n",
    "    if payoff == \"call\":\n",
    "        V = np.maximum(V, S_T - K)\n",
    "    elif payoff == \"put\":\n",
    "        V = np.maximum(V, K - S_T)\n",
    "            \n",
    "\n",
    "print(f\"American {payoff} Price: \", V[0])"
   ]
  },
  {
   "cell_type": "markdown",
   "metadata": {},
   "source": [
    "#### Improvements\n",
    "\n",
    "1. risk-free rate forward curve\n"
   ]
  },
  {
   "cell_type": "code",
   "execution_count": 93,
   "metadata": {},
   "outputs": [],
   "source": [
    "rfr = pd.read_csv('daily-treasury-rates.csv', index_col=0)\n",
    "rfr.index = pd.to_datetime(rfr.index)\n",
    "rfr.columns = [1/12, 1/6, 1/4, 1/3, 1/2, 1, 2, 3, 5, 7, 10, 20, 30]"
   ]
  },
  {
   "cell_type": "code",
   "execution_count": 39,
   "metadata": {},
   "outputs": [],
   "source": [
    "def flat_r(N):\n",
    "    return np.array([0.054]*N)"
   ]
  },
  {
   "cell_type": "code",
   "execution_count": 114,
   "metadata": {},
   "outputs": [],
   "source": [
    "from scipy import interpolate\n",
    "\n",
    "\n",
    "def curve_r(N, T, calc_day):\n",
    "\n",
    "    rf = rfr.loc[calc_day]\n",
    "    y = np.array(rf.values) / 100\n",
    "    x = rf.index.tolist()\n",
    "        \n",
    "    cs = interpolate.CubicSpline(x, y)\n",
    "    return cs(np.linspace(0, T, N))\n",
    "\n",
    "#curve = curve_r(2500, 1, dt.datetime(2023, 10, 2))\n"
   ]
  },
  {
   "cell_type": "markdown",
   "metadata": {},
   "source": [
    "#### functionized"
   ]
  },
  {
   "cell_type": "code",
   "execution_count": 133,
   "metadata": {},
   "outputs": [],
   "source": [
    "def american_option(S0, K, calc_day, expiry, sig, payoff, rf, div_info):\n",
    "    \"\"\"  \n",
    "    Parameters:\n",
    "        S0 - spot price\n",
    "        K - strike price\n",
    "        calc_day - day of calculation\n",
    "        expiry - expiration date of option\n",
    "        sig - annualized vol\n",
    "        payoff - 'call' or 'put'\n",
    "        rf - 'flat' or 'curve'\n",
    "        div_info - [yield, freq, offset]\n",
    "    \"\"\"\n",
    "\n",
    "    N = 1_000\n",
    "    T = (expiry-calc_day).days / 365\n",
    "    \n",
    "    if rf=='flat':\n",
    "        r = flat_r(N)\n",
    "    else:\n",
    "        r = curve_r(N, T, calc_day)\n",
    "\n",
    "    # divident init\n",
    "    div_yield = div_info[0] # quarterly payout\n",
    "    div_freq = div_info[1] # quarterly\n",
    "    div_offset = div_info[2] # time in years until first dividend\n",
    "\n",
    "    # number of dividends that will occur in option lifetime\n",
    "    num_div = int((T - div_offset) / div_freq) + 1\n",
    "\n",
    "    # times in years at which dividends will occur\n",
    "    div_times = [div_offset + n*div_freq for n in range(0, num_div) ]\n",
    "            \n",
    "    # initialization\n",
    "    dT = float(T) / N  # Delta t\n",
    "    u = np.exp(sig * np.sqrt(dT))  # up factor\n",
    "    d = 1.0 / u  # down factor\n",
    "\n",
    "    a = np.exp(r * dT)  # risk free compound return\n",
    "    p = (a - d) / (u - d)  # risk neutral up probability\n",
    "    q = 1.0 - p  # risk neutral down probability\n",
    "    \n",
    "    \n",
    "    # initialize price vector\n",
    "    V = np.zeros(N + 1)  \n",
    "    S_T = np.array([(S0 * u**j * d ** (N - j)) for j in range(N + 1)]) \n",
    "\n",
    "    # adjusting price for number of dividends that has occured\n",
    "    S_T = S_T * (1 - div_yield)**num_div\n",
    "\n",
    "    # payoff function\n",
    "    if payoff == \"call\":\n",
    "        V[:] = np.maximum(S_T - K, 0.0)\n",
    "    elif payoff == \"put\":\n",
    "        V[:] = np.maximum(K - S_T, 0.0)\n",
    "\n",
    "    # backwards iteration\n",
    "    for i in range(N - 1, -1, -1):\n",
    "        \n",
    "        # the price vector is overwritten at each step\n",
    "        V[:-1] = np.exp(-r[i] * dT) * (p[i] * V[1:] + q[i] * V[:-1]) \n",
    "        \n",
    "        # obtain the price at the previous time step\n",
    "        S_T = S_T * u  \n",
    "\n",
    "        # if we pass a dividend time, we can divide by (1-div)\n",
    "        if div_times:\n",
    "            if i * dT < div_times[-1]:\n",
    "                S_T = S_T / (1 - div_yield)\n",
    "                div_times.pop(-1)\n",
    "        \n",
    "        # american early exercise \n",
    "        if payoff == \"call\":\n",
    "            V = np.maximum(V, S_T - K)\n",
    "        elif payoff == \"put\":\n",
    "            V = np.maximum(V, K - S_T)\n",
    "                \n",
    "\n",
    "    return V[0]"
   ]
  },
  {
   "cell_type": "markdown",
   "metadata": {},
   "source": [
    "#### Testing"
   ]
  },
  {
   "cell_type": "code",
   "execution_count": 190,
   "metadata": {},
   "outputs": [],
   "source": [
    "daily_chains = OrderedDict()\n",
    "files = sorted(os.listdir('spy_data'))\n",
    "\n",
    "for file in files:\n",
    "    if file[-4:] == '.csv':\n",
    "        df = pd.read_csv('spy_data/' + file)        \n",
    "        \n",
    "        # moving to datetime and making features\n",
    "        df['quote_datetime'] = pd.to_datetime(df['quote_datetime'])\n",
    "        df['expiration'] = pd.to_datetime(df['expiration'])\n",
    "        df['quote_date'] = df['quote_datetime'][0].date()\n",
    "        df['quote_date'] = pd.to_datetime(df['quote_date'])\n",
    "        \n",
    "        # getting only 4:00 quotes\n",
    "        eod = dt.datetime.combine(df['quote_datetime'][0].date(), dt.time(16,0, 0))\n",
    "        df = df.loc[df['quote_datetime'] == eod]\n",
    "        \n",
    "        # getting time to expiration and moneyness\n",
    "        df['T'] = df['expiration'] - df['quote_date']\n",
    "        df['T'] = df['T'].dt.days\n",
    "        \n",
    "        # filtering for research paper criteria\n",
    "        df = df.loc[(df['close']!=0) & (df['T'] >= 20) & (df['T'] <= 365)]\n",
    "                    \n",
    "        calls = df.loc[df['option_type']=='C'][['quote_date', 'expiration', 'T','implied_volatility', 'active_underlying_price', 'strike', 'bid', 'ask']]\n",
    "        puts = df.loc[df['option_type']=='P'][['quote_date','expiration', 'T', 'implied_volatility', 'active_underlying_price', 'strike', 'bid', 'ask']]\n",
    "        \n",
    "        daily_chains[file[-14:-4]] = {'calls':calls, 'puts':puts}"
   ]
  },
  {
   "cell_type": "code",
   "execution_count": 205,
   "metadata": {},
   "outputs": [
    {
     "name": "stdout",
     "output_type": "stream",
     "text": [
      "[ 25  32  39  46  74  88 109 137 165 178 263 270 354 364]\n"
     ]
    }
   ],
   "source": [
    "test_daystr = '2023-10-02'\n",
    "test_daydt = dt.datetime(2023, 10, 2)\n",
    "test_day = daily_chains[test_daystr]\n",
    "print(test_day['calls']['T'].unique())\n",
    "\n",
    "ttm = 25\n",
    "test_c = test_day['calls']\n",
    "test_c = test_c.loc[test_c['T']==ttm].sort_values(by='strike')\n"
   ]
  },
  {
   "cell_type": "code",
   "execution_count": 206,
   "metadata": {},
   "outputs": [],
   "source": [
    "div_info = [0.003556, 0.25, time_to_div(test_daydt)]\n",
    "test_c['cprice'] = test_c.apply(lambda row: \n",
    "    american_option(row['active_underlying_price'],\n",
    "                    row['strike'],\n",
    "                    row['quote_date'],\n",
    "                    row['expiration'],\n",
    "                    row['implied_volatility'],\n",
    "                    'call',\n",
    "                    'curve', \n",
    "                    div_info), axis=1)\n",
    "\n",
    "test_c['mid'] = test_c.apply(lambda row: (row['bid'] + row['ask']) / 2, axis=1)"
   ]
  },
  {
   "cell_type": "code",
   "execution_count": 207,
   "metadata": {},
   "outputs": [
    {
     "data": {
      "image/png": "[encoded data removed]",
      "text/plain": [
       "<Figure size 640x480 with 1 Axes>"
      ]
     },
     "metadata": {},
     "output_type": "display_data"
    }
   ],
   "source": [
    "import matplotlib.pyplot as plt\n",
    "\n",
    "plt.plot(test_c['strike'], test_c['cprice'] - test_c['mid'])\n",
    "\n",
    "plt.title(f'difference between my prices and market for TTM={ttm}')\n",
    "plt.show()"
   ]
  },
  {
   "cell_type": "code",
   "execution_count": 194,
   "metadata": {},
   "outputs": [
    {
     "data": {
      "text/plain": [
       "0.975"
      ]
     },
     "execution_count": 194,
     "metadata": {},
     "output_type": "execute_result"
    }
   ],
   "source": [
    "len(test_c[(test_c['cprice'] > test_c['bid']) & (test_c['cprice'] < test_c['ask'])]) / len(test_c)"
   ]
  },
  {
   "cell_type": "code",
   "execution_count": 195,
   "metadata": {},
   "outputs": [],
   "source": [
    "div_info = [0.003556, 0.25, time_to_div(test_daydt)]\n",
    "test_c['cprice'] = test_c.apply(lambda row: \n",
    "    american_option(row['active_underlying_price'],\n",
    "                    row['strike'],\n",
    "                    row['quote_date'],\n",
    "                    row['expiration'],\n",
    "                    row['implied_volatility'],\n",
    "                    'call',\n",
    "                    'curve', \n",
    "                    div_info), axis=1)\n",
    "\n",
    "test_c['mid'] = test_c.apply(lambda row: (row['bid'] + row['ask']) / 2, axis=1)"
   ]
  },
  {
   "cell_type": "code",
   "execution_count": 197,
   "metadata": {},
   "outputs": [
    {
     "name": "stdout",
     "output_type": "stream",
     "text": [
      "2023-10-02 call MVE: 0.1004466767065631\n",
      "2023-10-02 put MVE: 0.16372832321265374\n"
     ]
    }
   ],
   "source": [
    "div_info = [0.003556, 0.25, time_to_div(test_daydt)]\n",
    "\n",
    "for day in daily_chains:\n",
    "    c = daily_chains[day]['calls']\n",
    "    p = daily_chains[day]['puts']\n",
    "    \n",
    "    c['cprice'] = c.apply(lambda row: \n",
    "    american_option(row['active_underlying_price'],\n",
    "                    row['strike'],\n",
    "                    row['quote_date'],\n",
    "                    row['expiration'],\n",
    "                    row['implied_volatility'],\n",
    "                    'call',\n",
    "                    'curve', \n",
    "                    div_info), axis=1)\n",
    "    c['mid'] = c.apply(lambda row: (row['bid'] + row['ask']) / 2, axis=1)\n",
    "    c_pct = len(c.loc[(c['cprice'] > c['bid']) & (c['cprice'] < c['ask'])]) / len(c)\n",
    "    \n",
    "    \n",
    "    p['pprice'] = p.apply(lambda row: \n",
    "    american_option(row['active_underlying_price'],\n",
    "                    row['strike'],\n",
    "                    row['quote_date'],\n",
    "                    row['expiration'],\n",
    "                    row['implied_volatility'],\n",
    "                    'put',\n",
    "                    'curve', \n",
    "                    div_info), axis=1)\n",
    "    p['mid'] = p.apply(lambda row: (row['bid'] + row['ask']) / 2, axis=1)\n",
    "    p_pct = len(p.loc[(p['pprice'] > p['bid']) & (p['pprice'] < p['ask'])]) / len(p)\n",
    "\n",
    "    \n",
    "    print(day, 'call MVE:', np.mean(np.abs(c['cprice'] - c['mid'])))\n",
    "    print(day, 'put MVE:', np.mean(np.abs(p['pprice'] - p['mid'])))\n",
    "    \n",
    "    \n",
    "    \n",
    "    break\n",
    "    \n",
    "    \n",
    "    "
   ]
  },
  {
   "cell_type": "code",
   "execution_count": 198,
   "metadata": {},
   "outputs": [
    {
     "name": "stdout",
     "output_type": "stream",
     "text": [
      "0.5808580858085809 0.5531697341513292\n"
     ]
    }
   ],
   "source": [
    "print(c_pct, p_pct)"
   ]
  },
  {
   "cell_type": "code",
   "execution_count": 202,
   "metadata": {},
   "outputs": [
    {
     "data": {
      "image/png": "[encoded data removed]",
      "text/plain": [
       "<Figure size 640x480 with 1 Axes>"
      ]
     },
     "metadata": {},
     "output_type": "display_data"
    }
   ],
   "source": [
    "plt.scatter(c['strike'], c['cprice']-c['mid'])\n",
    "plt.title('model vs market call pricing differences')\n",
    "plt.xlabel('Strike')\n",
    "plt.show()"
   ]
  },
  {
   "cell_type": "code",
   "execution_count": 204,
   "metadata": {},
   "outputs": [
    {
     "data": {
      "image/png": "[encoded data removed]",
      "text/plain": [
       "<Figure size 640x480 with 1 Axes>"
      ]
     },
     "metadata": {},
     "output_type": "display_data"
    }
   ],
   "source": [
    "plt.scatter(p['strike'], p['pprice']-p['mid'])\n",
    "plt.title('model vs market put pricing differences')\n",
    "plt.xlabel('Strike')\n",
    "plt.show()"
   ]
  }
 ],
 "metadata": {
  "kernelspec": {
   "display_name": "vol3",
   "language": "python",
   "name": "python3"
  },
  "language_info": {
   "codemirror_mode": {
    "name": "ipython",
    "version": 3
   },
   "file_extension": ".py",
   "mimetype": "text/x-python",
   "name": "python",
   "nbconvert_exporter": "python",
   "pygments_lexer": "ipython3",
   "version": "3.11.5"
  },
  "orig_nbformat": 4
 },
 "nbformat": 4,
 "nbformat_minor": 2
}
